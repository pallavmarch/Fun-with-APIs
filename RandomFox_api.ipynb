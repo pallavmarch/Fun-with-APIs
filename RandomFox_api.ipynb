{
  "nbformat": 4,
  "nbformat_minor": 0,
  "metadata": {
    "colab": {
      "provenance": []
    },
    "kernelspec": {
      "name": "python3",
      "display_name": "Python 3"
    },
    "language_info": {
      "name": "python"
    }
  },
  "cells": [
    {
      "cell_type": "code",
      "execution_count": 14,
      "metadata": {
        "colab": {
          "base_uri": "https://localhost:8080/",
          "height": 735
        },
        "id": "YoAEyqSX2XuA",
        "outputId": "2fad8488-2675-4640-f57e-8627b089f1fd"
      },
      "outputs": [
        {
          "output_type": "stream",
          "name": "stdout",
          "text": [
            "https://randomfox.ca/images/17.jpg\n"
          ]
        },
        {
          "output_type": "display_data",
          "data": {
            "text/html": [
              "<img src=\"https://randomfox.ca/images/17.jpg\"/>"
            ],
            "text/plain": [
              "<IPython.core.display.Image object>"
            ]
          },
          "metadata": {}
        }
      ],
      "source": [
        "import requests\n",
        "from IPython.display import Image, display\n",
        "\n",
        "url='https://randomfox.ca/floof/'\n",
        "response=requests.get(url)\n",
        "\n",
        "fox=response.json()\n",
        "\n",
        "print(fox['image'])\n",
        "display(Image(url=fox['image']))"
      ]
    }
  ]
}