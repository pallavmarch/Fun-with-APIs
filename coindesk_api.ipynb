{
  "nbformat": 4,
  "nbformat_minor": 0,
  "metadata": {
    "colab": {
      "provenance": [],
      "authorship_tag": "ABX9TyMXTA+y/DzNVYgFbgYVp+x5",
      "include_colab_link": true
    },
    "kernelspec": {
      "name": "python3",
      "display_name": "Python 3"
    },
    "language_info": {
      "name": "python"
    }
  },
  "cells": [
    {
      "cell_type": "markdown",
      "metadata": {
        "id": "view-in-github",
        "colab_type": "text"
      },
      "source": [
        "<a href=\"https://colab.research.google.com/github/pallavmarch/Fun-with-APIs-Pokemon-and-Wizards/blob/main/coindesk_api.ipynb\" target=\"_parent\"><img src=\"https://colab.research.google.com/assets/colab-badge.svg\" alt=\"Open In Colab\"/></a>"
      ]
    },
    {
      "cell_type": "code",
      "execution_count": 27,
      "metadata": {
        "colab": {
          "base_uri": "https://localhost:8080/"
        },
        "id": "1a4kwJE3eZ_p",
        "outputId": "dd31241c-4e59-4938-e90f-c737de588ae8"
      },
      "outputs": [
        {
          "output_type": "stream",
          "name": "stdout",
          "text": [
            "BTC → USD: 109,117.34\n",
            "BTC → EUR: 92,658.79\n",
            "\n",
            "\n",
            "ETH → USD: 2,564.54\n",
            "ETH → EUR: 2,178.14\n",
            "\n",
            "\n",
            "SOL → USD: 151.19\n",
            "SOL → EUR: 128.40\n",
            "\n",
            "\n",
            "DOGE → USD: 0.17161\n",
            "DOGE → EUR: 0.14578\n",
            "\n",
            "\n",
            "SHIB → USD: 0.0000118\n",
            "SHIB → EUR: 0.0000100\n",
            "\n",
            "\n"
          ]
        }
      ],
      "source": [
        "import requests\n",
        "\n",
        "\n",
        "url='https://min-api.cryptocompare.com/data/pricemultifull?fsyms=BTC,ETH,DOGE,SOL,SHIB&tsyms=USD,EUR'\n",
        "response=requests.get(url)\n",
        "data=response.json()\n",
        "\n",
        "print(f\"BTC → USD: {data['RAW']['BTC']['USD']['PRICE']:,.2f}\")\n",
        "print(f\"BTC → EUR: {data['RAW']['BTC']['EUR']['PRICE']:,.2f}\")\n",
        "print('\\n')\n",
        "\n",
        "print(f\"ETH → USD: {data['RAW']['ETH']['USD']['PRICE']:,.2f}\")\n",
        "print(f\"ETH → EUR: {data['RAW']['ETH']['EUR']['PRICE']:,.2f}\")\n",
        "print('\\n')\n",
        "\n",
        "print(f\"SOL → USD: {data['RAW']['SOL']['USD']['PRICE']:,.2f}\")\n",
        "print(f\"SOL → EUR: {data['RAW']['SOL']['EUR']['PRICE']:,.2f}\")\n",
        "print('\\n')\n",
        "\n",
        "print(f\"DOGE → USD: {data['RAW']['DOGE']['USD']['PRICE']:,.5f}\")\n",
        "print(f\"DOGE → EUR: {data['RAW']['DOGE']['EUR']['PRICE']:,.5f}\")\n",
        "print('\\n')\n",
        "\n",
        "print(f\"SHIB → USD: {data['RAW']['SHIB']['USD']['PRICE']:,.7f}\")\n",
        "print(f\"SHIB → EUR: {data['RAW']['SHIB']['EUR']['PRICE']:,.7f}\")\n",
        "print('\\n')"
      ]
    }
  ]
}